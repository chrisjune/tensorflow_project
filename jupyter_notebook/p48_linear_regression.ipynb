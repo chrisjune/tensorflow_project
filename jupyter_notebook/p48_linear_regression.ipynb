{
 "cells": [
  {
   "cell_type": "code",
   "execution_count": 13,
   "metadata": {},
   "outputs": [
    {
     "name": "stdout",
     "output_type": "stream",
     "text": [
      "0 2.5914316 [0.86004865] [0.50246525]\n",
      "1 0.062591664 [0.7896838] [0.45795274]\n",
      "2 0.030881405 [0.80279785] [0.45048866]\n",
      "3 0.029071247 [0.80665773] [0.43927178]\n",
      "4 0.027686251 [0.81140184] [0.42875433]\n",
      "5 0.026371071 [0.81592506] [0.41844273]\n",
      "6 0.025118446 [0.82035124] [0.40838414]\n",
      "7 0.023925282 [0.8246698] [0.3985668]\n",
      "8 0.02278882 [0.8288846] [0.38898554]\n",
      "9 0.021706318 [0.83299804] [0.3796346]\n",
      "10 0.020675264 [0.8370127] [0.37050846]\n",
      "11 0.019693185 [0.8409308] [0.36160168]\n",
      "12 0.018757747 [0.84475476] [0.35290903]\n",
      "13 0.017866712 [0.84848666] [0.34442532]\n",
      "14 0.01701803 [0.852129] [0.33614558]\n",
      "15 0.016209677 [0.8556837] [0.32806486]\n",
      "16 0.015439699 [0.859153] [0.32017842]\n",
      "17 0.014706305 [0.8625388] [0.31248155]\n",
      "18 0.014007736 [0.8658433] [0.3049697]\n",
      "19 0.013342358 [0.8690683] [0.29763842]\n",
      "20 0.012708604 [0.87221587] [0.2904834]\n",
      "21 0.012104909 [0.87528765] [0.28350034]\n",
      "22 0.011529916 [0.87828565] [0.2766852]\n",
      "23 0.010982253 [0.88121164] [0.2700339]\n",
      "24 0.010460599 [0.88406724] [0.26354247]\n",
      "25 0.009963707 [0.8868542] [0.2572071]\n",
      "26 0.00949042 [0.8895741] [0.251024]\n",
      "27 0.009039608 [0.89222866] [0.24498956]\n",
      "28 0.00861022 [0.8948194] [0.23910017]\n",
      "29 0.008201231 [0.89734787] [0.23335236]\n",
      "30 0.007811668 [0.89981556] [0.22774275]\n",
      "31 0.0074406154 [0.90222394] [0.22226799]\n",
      "32 0.0070871734 [0.9045744] [0.21692482]\n",
      "33 0.0067505254 [0.90686834] [0.21171008]\n",
      "34 0.0064298846 [0.90910727] [0.20662075]\n",
      "35 0.0061244518 [0.9112922] [0.20165369]\n",
      "36 0.005833531 [0.9134246] [0.19680606]\n",
      "37 0.0055564363 [0.9155059] [0.19207501]\n",
      "38 0.005292503 [0.91753703] [0.18745765]\n",
      "39 0.005041105 [0.9195194] [0.1829513]\n",
      "40 0.0048016533 [0.92145413] [0.17855328]\n",
      "41 0.0045735664 [0.9233423] [0.17426097]\n",
      "42 0.004356325 [0.9251851] [0.17007187]\n",
      "43 0.0041493946 [0.92698365] [0.16598347]\n",
      "44 0.003952293 [0.92873883] [0.16199331]\n",
      "45 0.003764553 [0.9304519] [0.15809913]\n",
      "46 0.003585731 [0.9321238] [0.15429853]\n",
      "47 0.0034154083 [0.93375546] [0.1505893]\n",
      "48 0.0032531775 [0.935348] [0.14696926]\n",
      "49 0.0030986487 [0.93690217] [0.14343622]\n",
      "50 0.0029514565 [0.938419] [0.13998811]\n",
      "51 0.0028112575 [0.9398993] [0.13662288]\n",
      "52 0.002677732 [0.94134414] [0.13333857]\n",
      "53 0.0025505412 [0.9427542] [0.13013321]\n",
      "54 0.002429385 [0.94413036] [0.12700489]\n",
      "55 0.002313988 [0.94547343] [0.12395177]\n",
      "56 0.0022040696 [0.9467842] [0.12097205]\n",
      "57 0.0020993731 [0.94806343] [0.11806396]\n",
      "58 0.0019996522 [0.949312] [0.11522578]\n",
      "59 0.001904666 [0.95053047] [0.11245584]\n",
      "60 0.0018141909 [0.9517197] [0.1097525]\n",
      "61 0.0017280205 [0.9528803] [0.10711413]\n",
      "62 0.0016459393 [0.95401305] [0.10453918]\n",
      "63 0.0015677568 [0.95511854] [0.10202612]\n",
      "64 0.0014932837 [0.95619744] [0.09957348]\n",
      "65 0.0014223531 [0.9572505] [0.09717982]\n",
      "66 0.0013547881 [0.9582781] [0.09484367]\n",
      "67 0.001290438 [0.9592811] [0.09256369]\n",
      "68 0.0012291386 [0.9602599] [0.09033851]\n",
      "69 0.0011707522 [0.96121526] [0.08816686]\n",
      "70 0.0011151399 [0.9621476] [0.08604737]\n",
      "71 0.0010621747 [0.9630576] [0.08397885]\n",
      "72 0.0010117145 [0.9639456] [0.08196005]\n",
      "73 0.000963662 [0.9648124] [0.0799898]\n",
      "74 0.0009178819 [0.9656582] [0.07806686]\n",
      "75 0.0008742845 [0.96648383] [0.07619022]\n",
      "76 0.0008327561 [0.9672895] [0.07435864]\n",
      "77 0.000793197 [0.9680758] [0.07257111]\n",
      "78 0.0007555221 [0.9688433] [0.07082656]\n",
      "79 0.0007196349 [0.9695922] [0.06912392]\n",
      "80 0.0006854472 [0.9703232] [0.06746224]\n",
      "81 0.00065288943 [0.9710366] [0.06584051]\n",
      "82 0.00062188157 [0.9717329] [0.06425776]\n",
      "83 0.0005923379 [0.9724124] [0.06271303]\n",
      "84 0.00056420156 [0.97307557] [0.06120545]\n",
      "85 0.0005374045 [0.9737229] [0.05973414]\n",
      "86 0.0005118779 [0.97435457] [0.05829816]\n",
      "87 0.00048756142 [0.97497106] [0.05689669]\n",
      "88 0.0004644012 [0.9755727] [0.05552893]\n",
      "89 0.00044233983 [0.97615993] [0.05419407]\n",
      "90 0.00042133313 [0.9767331] [0.0528913]\n",
      "91 0.00040131772 [0.9772924] [0.05161982]\n",
      "92 0.0003822546 [0.9778383] [0.05037891]\n",
      "93 0.00036409753 [0.978371] [0.04916783]\n",
      "94 0.00034680346 [0.97889096] [0.04798585]\n",
      "95 0.00033032848 [0.97939837] [0.0468323]\n",
      "96 0.0003146366 [0.9798936] [0.04570648]\n",
      "97 0.00029969143 [0.980377] [0.04460774]\n",
      "98 0.00028545604 [0.9808487] [0.04353539]\n",
      "99 0.00027189683 [0.9813091] [0.04248882]\n",
      "X:5,Y: [4.9490347]\n",
      "X:100,Y: [98.1734]\n"
     ]
    }
   ],
   "source": [
    "import tensorflow as tf\n",
    "x_data = [1,2,3]\n",
    "y_data = [1,2,3]\n",
    "W=tf.Variable(tf.random_uniform([1],-1.0,1.0))\n",
    "b=tf.Variable(tf.random_uniform([1],-1.0,1.0))\n",
    "\n",
    "X=tf.placeholder(tf.float32,name=\"X\")\n",
    "Y=tf.placeholder(tf.float32,name=\"Y\")\n",
    "hypothesis = W * X + b\n",
    "\n",
    "#손실함수\n",
    "cost = tf.reduce_mean(tf.square(hypothesis - Y))\n",
    "optimizer = tf.train.GradientDescentOptimizer(learning_rate=0.1)\n",
    "train_op = optimizer.minimize(cost)\n",
    "\n",
    "with tf.Session() as sess:\n",
    "    sess.run(tf.global_variables_initializer())\n",
    "    for step in range(100):\n",
    "        _,cost_val = sess.run([train_op,cost],feed_dict={X:x_data,Y:y_data})\n",
    "        #sess.run([train_op,cost],feed_dict={X:x_data,Y:y_data})\n",
    "        print(step,cost_val,sess.run(W),sess.run(b))\n",
    "\n",
    "    print(\"X:5,Y:\",sess.run(hypothesis,feed_dict={X:5}))\n",
    "    print(\"X:100,Y:\",sess.run(hypothesis,feed_dict={X:100}))"
   ]
  },
  {
   "cell_type": "code",
   "execution_count": null,
   "metadata": {},
   "outputs": [],
   "source": []
  },
  {
   "cell_type": "code",
   "execution_count": null,
   "metadata": {},
   "outputs": [],
   "source": []
  },
  {
   "cell_type": "code",
   "execution_count": null,
   "metadata": {},
   "outputs": [],
   "source": []
  },
  {
   "cell_type": "code",
   "execution_count": null,
   "metadata": {},
   "outputs": [],
   "source": []
  },
  {
   "cell_type": "code",
   "execution_count": null,
   "metadata": {},
   "outputs": [],
   "source": []
  },
  {
   "cell_type": "code",
   "execution_count": 8,
   "metadata": {},
   "outputs": [
    {
     "ename": "RuntimeError",
     "evalue": "Attempted to use a closed Session.",
     "output_type": "error",
     "traceback": [
      "\u001b[1;31m---------------------------------------------------------------------------\u001b[0m",
      "\u001b[1;31mRuntimeError\u001b[0m                              Traceback (most recent call last)",
      "\u001b[1;32m<ipython-input-8-ed37eb83567a>\u001b[0m in \u001b[0;36m<module>\u001b[1;34m()\u001b[0m\n\u001b[1;32m----> 1\u001b[1;33m \u001b[0mprint\u001b[0m\u001b[1;33m(\u001b[0m\u001b[1;34m\"X:5,Y:\"\u001b[0m\u001b[1;33m,\u001b[0m\u001b[0msess\u001b[0m\u001b[1;33m.\u001b[0m\u001b[0mrun\u001b[0m\u001b[1;33m(\u001b[0m\u001b[0mhypothesis\u001b[0m\u001b[1;33m,\u001b[0m\u001b[0mfeed_dict\u001b[0m\u001b[1;33m=\u001b[0m\u001b[1;33m{\u001b[0m\u001b[0mX\u001b[0m\u001b[1;33m:\u001b[0m\u001b[1;36m5\u001b[0m\u001b[1;33m}\u001b[0m\u001b[1;33m)\u001b[0m\u001b[1;33m)\u001b[0m\u001b[1;33m\u001b[0m\u001b[0m\n\u001b[0m",
      "\u001b[1;32mc:\\users\\79596\\appdata\\local\\programs\\python\\python36\\lib\\site-packages\\tensorflow\\python\\client\\session.py\u001b[0m in \u001b[0;36mrun\u001b[1;34m(self, fetches, feed_dict, options, run_metadata)\u001b[0m\n\u001b[0;32m    893\u001b[0m     \u001b[1;32mtry\u001b[0m\u001b[1;33m:\u001b[0m\u001b[1;33m\u001b[0m\u001b[0m\n\u001b[0;32m    894\u001b[0m       result = self._run(None, fetches, feed_dict, options_ptr,\n\u001b[1;32m--> 895\u001b[1;33m                          run_metadata_ptr)\n\u001b[0m\u001b[0;32m    896\u001b[0m       \u001b[1;32mif\u001b[0m \u001b[0mrun_metadata\u001b[0m\u001b[1;33m:\u001b[0m\u001b[1;33m\u001b[0m\u001b[0m\n\u001b[0;32m    897\u001b[0m         \u001b[0mproto_data\u001b[0m \u001b[1;33m=\u001b[0m \u001b[0mtf_session\u001b[0m\u001b[1;33m.\u001b[0m\u001b[0mTF_GetBuffer\u001b[0m\u001b[1;33m(\u001b[0m\u001b[0mrun_metadata_ptr\u001b[0m\u001b[1;33m)\u001b[0m\u001b[1;33m\u001b[0m\u001b[0m\n",
      "\u001b[1;32mc:\\users\\79596\\appdata\\local\\programs\\python\\python36\\lib\\site-packages\\tensorflow\\python\\client\\session.py\u001b[0m in \u001b[0;36m_run\u001b[1;34m(self, handle, fetches, feed_dict, options, run_metadata)\u001b[0m\n\u001b[0;32m   1051\u001b[0m     \u001b[1;31m# Check session.\u001b[0m\u001b[1;33m\u001b[0m\u001b[1;33m\u001b[0m\u001b[0m\n\u001b[0;32m   1052\u001b[0m     \u001b[1;32mif\u001b[0m \u001b[0mself\u001b[0m\u001b[1;33m.\u001b[0m\u001b[0m_closed\u001b[0m\u001b[1;33m:\u001b[0m\u001b[1;33m\u001b[0m\u001b[0m\n\u001b[1;32m-> 1053\u001b[1;33m       \u001b[1;32mraise\u001b[0m \u001b[0mRuntimeError\u001b[0m\u001b[1;33m(\u001b[0m\u001b[1;34m'Attempted to use a closed Session.'\u001b[0m\u001b[1;33m)\u001b[0m\u001b[1;33m\u001b[0m\u001b[0m\n\u001b[0m\u001b[0;32m   1054\u001b[0m     \u001b[1;32mif\u001b[0m \u001b[0mself\u001b[0m\u001b[1;33m.\u001b[0m\u001b[0mgraph\u001b[0m\u001b[1;33m.\u001b[0m\u001b[0mversion\u001b[0m \u001b[1;33m==\u001b[0m \u001b[1;36m0\u001b[0m\u001b[1;33m:\u001b[0m\u001b[1;33m\u001b[0m\u001b[0m\n\u001b[0;32m   1055\u001b[0m       raise RuntimeError('The Session graph is empty.  Add operations to the '\n",
      "\u001b[1;31mRuntimeError\u001b[0m: Attempted to use a closed Session."
     ]
    }
   ],
   "source": []
  },
  {
   "cell_type": "code",
   "execution_count": null,
   "metadata": {},
   "outputs": [],
   "source": []
  },
  {
   "cell_type": "code",
   "execution_count": null,
   "metadata": {},
   "outputs": [],
   "source": []
  },
  {
   "cell_type": "code",
   "execution_count": null,
   "metadata": {},
   "outputs": [],
   "source": []
  },
  {
   "cell_type": "code",
   "execution_count": null,
   "metadata": {},
   "outputs": [],
   "source": []
  },
  {
   "cell_type": "code",
   "execution_count": null,
   "metadata": {},
   "outputs": [],
   "source": []
  },
  {
   "cell_type": "code",
   "execution_count": null,
   "metadata": {},
   "outputs": [],
   "source": []
  },
  {
   "cell_type": "code",
   "execution_count": null,
   "metadata": {},
   "outputs": [],
   "source": []
  }
 ],
 "metadata": {
  "kernelspec": {
   "display_name": "Python 3",
   "language": "python",
   "name": "python3"
  },
  "language_info": {
   "codemirror_mode": {
    "name": "ipython",
    "version": 3
   },
   "file_extension": ".py",
   "mimetype": "text/x-python",
   "name": "python",
   "nbconvert_exporter": "python",
   "pygments_lexer": "ipython3",
   "version": "3.6.4"
  }
 },
 "nbformat": 4,
 "nbformat_minor": 2
}
