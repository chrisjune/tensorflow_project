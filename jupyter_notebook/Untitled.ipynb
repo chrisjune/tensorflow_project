{
 "cells": [
  {
   "cell_type": "code",
   "execution_count": 1,
   "metadata": {},
   "outputs": [
    {
     "name": "stdout",
     "output_type": "stream",
     "text": [
      "Tensor(\"Placeholder:0\", shape=(?, 3), dtype=float32)\n"
     ]
    }
   ],
   "source": [
    "import tensorflow as tf\n",
    "X= tf.placeholder(tf.float32,[None,3])\n",
    "print(X)"
   ]
  },
  {
   "cell_type": "code",
   "execution_count": 11,
   "metadata": {},
   "outputs": [
    {
     "name": "stdout",
     "output_type": "stream",
     "text": [
      "W\n",
      "[[ 0.05783777 -1.3914804 ]\n",
      " [ 0.36854258 -1.160017  ]\n",
      " [-0.02133975 -0.11434805]]\n",
      "Y\n",
      "[[ 100000.734   99995.945]\n",
      " [1000001.94   999987.94 ]]\n"
     ]
    }
   ],
   "source": [
    "x_data = [[1.,2.,3.],[4.,5.,6.]]\n",
    "W=tf.Variable(tf.random_normal([3,2]))\n",
    "b=tf.Variable(tf.random_normal([2,1]))\n",
    "expr = tf.matmul(X,W)+b\n",
    "\n",
    "sess=tf.Session()\n",
    "sess.run(tf.global_variables_initializer())\n",
    "print(\"W\")\n",
    "print(sess.run(W))\n",
    "print(\"Y\")\n",
    "print(sess.run(expr,feed_dict={X:x_data}))\n",
    "sess.close()"
   ]
  },
  {
   "cell_type": "code",
   "execution_count": null,
   "metadata": {},
   "outputs": [],
   "source": []
  }
 ],
 "metadata": {
  "kernelspec": {
   "display_name": "Python 3",
   "language": "python",
   "name": "python3"
  },
  "language_info": {
   "codemirror_mode": {
    "name": "ipython",
    "version": 3
   },
   "file_extension": ".py",
   "mimetype": "text/x-python",
   "name": "python",
   "nbconvert_exporter": "python",
   "pygments_lexer": "ipython3",
   "version": "3.6.4"
  }
 },
 "nbformat": 4,
 "nbformat_minor": 2
}
