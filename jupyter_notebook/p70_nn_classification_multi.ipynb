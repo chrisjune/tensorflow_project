{
 "cells": [
  {
   "cell_type": "code",
   "execution_count": 7,
   "metadata": {},
   "outputs": [
    {
     "name": "stdout",
     "output_type": "stream",
     "text": [
      "100 0.09248904\n",
      "200 0.010529059\n",
      "300 0.0041511278\n",
      "400 0.0022483459\n",
      "500 0.0014181245\n",
      "600 0.0009792104\n",
      "700 0.00071753055\n",
      "800 0.00054880674\n",
      "900 0.00043334533\n",
      "1000 0.0003506951\n",
      "예측값: [2 1 2 0]\n",
      "실제값: [2 1 2 0]\n",
      "정확도:100.00\n"
     ]
    }
   ],
   "source": [
    "import tensorflow as tf\n",
    "import numpy as np\n",
    "\n",
    "x_data = np.array(\n",
    "    [[0,0],\n",
    "     [1,0],\n",
    "     [1,1],\n",
    "     [0,0],\n",
    "     [0,0],\n",
    "     [0,1]\n",
    "])\n",
    "y_data = np.array([\n",
    "    [1,0,0],\n",
    "    [0,1,0],\n",
    "    [0,0,1],\n",
    "    [1,0,0],\n",
    "    [1,0,0],\n",
    "    [0,0,1],\n",
    "])\n",
    "test_data = np.array([\n",
    "    [1,1],\n",
    "    [1,0],\n",
    "    [0,1],\n",
    "    [0,0]\n",
    "])\n",
    "real_data = np.array([\n",
    "    [0,0,1],\n",
    "    [0,1,0],\n",
    "    [0,0,1],\n",
    "    [1,0,0]\n",
    "])\n",
    "\n",
    "X = tf.placeholder(tf.float32)\n",
    "Y = tf.placeholder(tf.float32)\n",
    "\n",
    "W1 = tf.Variable(tf.random_uniform([2,10],-1.,1.))\n",
    "W2 = tf.Variable(tf.random_uniform([10,3],-1.,1.))\n",
    "b1 = tf.Variable(tf.zeros([10]))\n",
    "b2 = tf.Variable(tf.zeros([3]))\n",
    "L1 = tf.add(tf.matmul(X,W1),b1)\n",
    "L1 = tf.nn.relu(L1)\n",
    "L2 = tf.add(tf.matmul(L1,W2),b2)\n",
    "model = L2\n",
    "\n",
    "cost = tf.reduce_mean(tf.nn.softmax_cross_entropy_with_logits(labels=Y,logits=model))\n",
    "optimizer = tf.train.AdamOptimizer(learning_rate=0.01)\n",
    "train_op = optimizer.minimize(cost)\n",
    "\n",
    "#cost = tf.reduce_mean(-tf.reduce_sum(Y*tf.log(model),axis=1))\n",
    "#optimizer = tf.train.GradientDescentOptimizer(learning_rate=0.1)\n",
    "#train_op = optimizer.minimize(cost)\n",
    "\n",
    "init = tf.global_variables_initializer()\n",
    "sess = tf.Session()\n",
    "sess.run(init)\n",
    "\n",
    "for step in range(1000):\n",
    "    sess.run(train_op,feed_dict={X:x_data,Y:y_data})\n",
    "    if(step+1)%100==0:\n",
    "        print(step+1,sess.run(cost,feed_dict={X:x_data,Y:y_data}))\n",
    "prediction = tf.argmax(model,axis=1)\n",
    "target = tf.argmax(Y,axis=1)\n",
    "print(\"예측값:\",sess.run(prediction,feed_dict={X:test_data}))\n",
    "print(\"실제값:\",sess.run(target,feed_dict={Y:real_data}))\n",
    "\n",
    "is_correct = tf.equal(prediction, target)\n",
    "accuracy = tf.reduce_mean(tf.cast(is_correct,tf.float32))\n",
    "print('정확도:%.2f'% sess.run(accuracy*100,feed_dict={X:test_data, Y:real_data}))\n",
    "#print(\"W:\",sess.run(W),\" b:\",sess.run(b))"
   ]
  },
  {
   "cell_type": "code",
   "execution_count": null,
   "metadata": {},
   "outputs": [],
   "source": []
  },
  {
   "cell_type": "code",
   "execution_count": null,
   "metadata": {},
   "outputs": [],
   "source": []
  },
  {
   "cell_type": "code",
   "execution_count": null,
   "metadata": {},
   "outputs": [],
   "source": []
  },
  {
   "cell_type": "code",
   "execution_count": null,
   "metadata": {},
   "outputs": [],
   "source": []
  },
  {
   "cell_type": "code",
   "execution_count": null,
   "metadata": {},
   "outputs": [],
   "source": []
  },
  {
   "cell_type": "code",
   "execution_count": null,
   "metadata": {},
   "outputs": [],
   "source": []
  },
  {
   "cell_type": "code",
   "execution_count": null,
   "metadata": {},
   "outputs": [],
   "source": []
  }
 ],
 "metadata": {
  "kernelspec": {
   "display_name": "Python 3",
   "language": "python",
   "name": "python3"
  },
  "language_info": {
   "codemirror_mode": {
    "name": "ipython",
    "version": 3
   },
   "file_extension": ".py",
   "mimetype": "text/x-python",
   "name": "python",
   "nbconvert_exporter": "python",
   "pygments_lexer": "ipython3",
   "version": "3.6.4"
  }
 },
 "nbformat": 4,
 "nbformat_minor": 2
}
